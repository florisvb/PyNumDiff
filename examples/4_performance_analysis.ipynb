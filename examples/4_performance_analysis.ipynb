{
 "cells": [
  {
   "cell_type": "markdown",
   "id": "21820377-502e-479c-a8d2-02cef720b1ca",
   "metadata": {},
   "source": [
    "# Performance Analysis\n",
    "\n",
    "Here we optimize method hyperparameters on simulated examples and examine method accuracy and bias."
   ]
  },
  {
   "cell_type": "code",
   "execution_count": 1,
   "id": "5e5ea3c3-aed3-4b8d-a7c7-1db05fc73f3c",
   "metadata": {},
   "outputs": [],
   "source": [
    "import pandas, numpy as np\n",
    "import matplotlib.pyplot as plt\n",
    "import matplotlib.patches as mpatches\n",
    "import matplotlib.colors as mcolors\n",
    "import re, os\n",
    "from IPython.display import HTML, display\n",
    "from tqdm import tqdm\n",
    "from collections import defaultdict\n",
    "from scipy.stats import t as t_dist\n",
    "from multiprocessing import Pool\n",
    "\n",
    "from pynumdiff.utils.simulate import sine, triangle, pop_dyn, linear_autonomous, pi_cruise_control, lorenz_x\n",
    "from pynumdiff.utils.evaluate import rmse, error_correlation\n",
    "from pynumdiff.finite_difference import finitediff\n",
    "from pynumdiff.smooth_finite_difference import mediandiff, meandiff, gaussiandiff, friedrichsdiff, butterdiff\n",
    "from pynumdiff.polynomial_fit import splinediff, polydiff, savgoldiff\n",
    "from pynumdiff.basis_fit import spectraldiff, rbfdiff\n",
    "from pynumdiff.total_variation_regularization import tvrdiff, smooth_acceleration\n",
    "from pynumdiff.kalman_smooth import rtsdiff, robustdiff\n",
    "from pynumdiff.optimize import optimize"
   ]
  },
  {
   "cell_type": "markdown",
   "id": "1d89910d-f9dc-44b2-8f4e-e54c6d005368",
   "metadata": {},
   "source": [
    "Experimental search space parameters. There are many random seeds to ensure results are not flukes."
   ]
  },
  {
   "cell_type": "code",
   "execution_count": 2,
   "id": "ef461de3-e615-4c32-8931-51bf60d8e16c",
   "metadata": {},
   "outputs": [
    {
     "name": "stdout",
     "output_type": "stream",
     "text": [
      "52\n"
     ]
    }
   ],
   "source": [
    "random_seeds = [1, 7, 31, 45, 57, 101, 256, 343, 737, 1024, 10000]# 11 of these\n",
    "random_seeds += [1000001 + i for i in range(22)] # 22 more\n",
    "random_seeds += [2000001 + i for i in range(19)] # 19 more\n",
    "print(len(random_seeds))\n",
    "dts = [0.005, 0.01, 0.02, 0.04] #, 0.08]\n",
    "noise_types = [('normal', [0, 0.1]), ('laplace', [0, 0.1]), ('uniform', [-0.2, 0.2])]\n",
    "noise_scales = [0.5, 1, 2, 4]\n",
    "cutoff_frequencies = [1, 2, 3, 4, 5] # high frequency of signal in the data."
   ]
  },
  {
   "cell_type": "code",
   "execution_count": 13,
   "id": "1eba51f1-bf31-4f84-b82b-176461319de6",
   "metadata": {},
   "outputs": [],
   "source": [
    "methods = [(meandiff, 'MeanDiff'),\n",
    "\t\t\t(mediandiff, 'MedianDiff'),\n",
    "\t\t\t(gaussiandiff, 'GaussianDiff'),\n",
    "\t\t\t(friedrichsdiff, 'FriedrichsDiff'),\n",
    "\t\t\t(butterdiff, 'ButterDiff'),\n",
    "\t\t\t(splinediff, 'SplineDiff'),\n",
    "\t\t\t(polydiff, 'PolyDiff'),\n",
    "\t\t\t(savgoldiff, 'SavGolDiff'),\n",
    "\t\t    (spectraldiff, 'SpectralDiff'),\n",
    "\t\t\t(rbfdiff, 'RBF'),\n",
    "\t\t\t(finitediff, 'IteratedFD'), # skip first_order, because it's not going to be the best\n",
    "\t\t\t(tvrdiff, 'TVR'),\n",
    "\t\t\t(smooth_acceleration, 'SmoothAccelTVR'), # skip in plotting?\n",
    "\t\t\t(rtsdiff, 'RTS'),\n",
    "\t\t    (robustdiff, 'RobustDiff')]\n",
    "sims = [(pi_cruise_control, 'Cruise Control'),\n",
    "\t\t(sine, 'Sum of Sines'),\n",
    "\t\t(triangle, 'Triangles'),\n",
    "\t\t(pop_dyn, 'Logistic Growth'),\n",
    "\t\t(linear_autonomous, 'Linear Autonomous'),\n",
    "\t\t(lorenz_x, 'Lorenz First Dimension')]"
   ]
  },
  {
   "cell_type": "markdown",
   "id": "805b8da0-cd29-4ab2-b435-faa491bccffc",
   "metadata": {},
   "source": [
    "## Experiment"
   ]
  },
  {
   "cell_type": "code",
   "execution_count": 5,
   "id": "275e4552-4479-40e3-b111-41c35d62ee9e",
   "metadata": {},
   "outputs": [],
   "source": [
    "def main_loop(dt, cutoff_frequency, noise_type, noise_params, noise_scale, outliers, random_seed):\n",
    "\t\"\"\"Create and save a dataframe of results over all methods for all sims, given a certain\n",
    "\thyperparameterization. Each one of these takes about 11 minutes on my machine\"\"\"\t\n",
    "\ttry: # short circuit if the file already exists, just read in and display\n",
    "\t\tres = pandas.read_csv(f\"~/Desktop/results2/{cutoff_frequency}_{dt}_{noise_type}_{noise_scale}_{outliers}_{random_seed}.csv\",\n",
    "\t\t\t\t\t\t\t index_col=0)\n",
    "\t\tprint(\".\", end='')\n",
    "\texcept FileNotFoundError:\n",
    "\t\ttvgamma = np.exp(-1.6*np.log(cutoff_frequency) -0.71*np.log(dt) - 5.1)\n",
    "\t\t#res = pandas.DataFrame(index=[x[1] for x in methods], columns=[x[1] for x in sims])\n",
    "\t\tres = pandas.read_csv(f\"~/Desktop/results/{cutoff_frequency}_{dt}_{noise_type}_{noise_scale}_{outliers}_{random_seed}.csv\",\n",
    "\t\t\t\t\t\t\t index_col=0)\n",
    "\n",
    "\t\tfor sim,sname in tqdm(sims):\n",
    "\t\t\tx, x_truth, dxdt_truth = sim(duration=4, dt=dt, noise_type=noise_type,\n",
    "\t\t\t\t\t\t\t\t\t\tnoise_parameters=noise_scale*np.array(noise_params),\n",
    "\t\t\t\t\t\t\t\t\t\toutliers=outliers, random_seed=random_seed)\n",
    "\t\t\t#t = np.arange(0,dt*len(x), dt)\n",
    "\t\t\n",
    "\t\t\t#for method,mname in tqdm(methods):\n",
    "\t\t\tmethod,mname = (robustdiff, 'RobustDiff') # ADDING A METHOD\n",
    "\t\t\t#best_params, best_rmse = optimize(method, x, dt, dxdt_truth=dxdt_truth, metric='rmse')\n",
    "\t\t\t#best_params, best_ec = optimize(method, x, dt, dxdt_truth=dxdt_truth, metric='error_correlation')\n",
    "\t\t\tbest_params, best_score = optimize(method, x, dt, tvgamma=tvgamma,\n",
    "\t\t\t\t\t\tsearch_space_updates=({'order':{2,3}} if (method in [tvrdiff, robustdiff] and sim != triangle) else {})) # because convex-based with order 1 tends to hack the cost function\n",
    "\t\t\tx_hat, dxdt_hat = method(x, dt, **best_params)\n",
    "\t\n",
    "\t\t\t_, _, rms_dxdt = rmse(x, dt, x_hat, dxdt_hat, dxdt_truth=dxdt_truth)\n",
    "\t\t\tec = error_correlation(dxdt_hat, dxdt_truth)\n",
    "\t\t\tres.loc[mname, sname] = f\"RMSE: {rms_dxdt:.5g}<br/>R^2: {ec:.5g}\"\n",
    "\t\n",
    "\t\tres.to_csv(f\"~/Desktop/results2/{cutoff_frequency}_{dt}_{noise_type}_{noise_scale}_{outliers}_{random_seed}.csv\")\n",
    "\n",
    "\t\tdisplay(HTML(res.style.set_caption(\n",
    "\t\t\tf\"cutoff_frequency={cutoff_frequency}, dt={dt}, noise_type={noise_type}, noise_scale={noise_scale}, outliers={outliers}, random_seed={random_seed}\").set_properties(\n",
    "\t\t\t**{'text-align': 'left'}).to_html(escape=False)))\n",
    "\t"
   ]
  },
  {
   "cell_type": "markdown",
   "id": "be8828c7-971c-455f-a26d-790a8388f186",
   "metadata": {},
   "source": [
    "The hypercube was getting too dang big, so take intentional slices to answer specific questions."
   ]
  },
  {
   "cell_type": "code",
   "execution_count": null,
   "id": "fac1f6c9-f657-492b-8b68-9bdc28298261",
   "metadata": {},
   "outputs": [],
   "source": [
    "for random_seed in random_seeds:\n",
    "\t# Does dt matter? Vary dt, keeping everything else constant\n",
    "\t# for dt in dts: # 4\n",
    "\t# \tmain_loop(dt=dt, cutoff_frequency=3, noise_type='normal', noise_params=[0, 0.1], noise_scale=1,\n",
    "\t# \t\t\t  outliers=False, random_seed=random_seed)\n",
    "\n",
    "\t# # Does noise type matter? Vary noise type, keeping everything else constant\n",
    "\t# for noise_type,noise_params in noise_types: # 3\n",
    "\t# \tmain_loop(dt=0.01, cutoff_frequency=3, noise_type=noise_type, noise_params=noise_params, noise_scale=1,\n",
    "\t# \t\t\t  outliers=False, random_seed=random_seed)\n",
    "\t\n",
    "\t# # Does noise scale matter? Vary noise scale, keeping everything else constant\n",
    "\t# for noise_scale in noise_scales: # 4\n",
    "\t# \tmain_loop(dt=0.01, cutoff_frequency=3, noise_type='normal', noise_params=[0,0.1], noise_scale=noise_scale,\n",
    "\t# \t\t\t  outliers=False, random_seed=random_seed)\n",
    "\t\n",
    "\t# Does the presence of outliers matter? Vary presence of outliers, keeping everything else constant\n",
    "\tfor outliers in [False, True]: # 2 Maybe try this one with more noise types too?\n",
    "\t\tmain_loop(dt=0.01, cutoff_frequency=3, noise_type='normal', noise_params=[0, 0.1], noise_scale=1,\n",
    "\t\t\t\t  outliers=outliers, random_seed=random_seed)\n",
    "\t\n",
    "\t# #Does the cutoff frequency matter? Vary cutoff, keeping everything else constant\n",
    "\t# for cutoff_frequency in cutoff_frequencies: # 5\n",
    "\t# \tmain_loop(dt=0.01, cutoff_frequency=cutoff_frequency, noise_type='normal', noise_params=[0, 0.1], noise_scale=1,\n",
    "\t# \t\t\t  outliers=False, random_seed=random_seed)\n",
    "\t\n",
    "\t# Because they all pass through the central point, the number of unique runs here is 4 + 3 + 2 + 1 + 2 = 12 * 11 minutes = 2 hours\n",
    "\t# repeat for each random seed = 10 hours?"
   ]
  },
  {
   "cell_type": "markdown",
   "id": "25011484-fd3d-4384-ab84-4022ff9bd77c",
   "metadata": {},
   "source": [
    "## Plot Results"
   ]
  },
  {
   "cell_type": "code",
   "execution_count": 14,
   "id": "7c16abef-9619-47d2-aa3c-cd5f8f3f5d02",
   "metadata": {},
   "outputs": [],
   "source": [
    "def plot_perf(indie, vals, error_bars_gaps):\n",
    "\t\"\"\"\n",
    "\t:param str indie: the name of the independent variable\n",
    "\t:param list vals: values for the independent variable\n",
    "\t:param error_bars_gaps: how much space to give for the central symbol\n",
    "\t\"\"\"\n",
    "\tfig, ax = plt.subplots(2, 1, figsize=(30, 12), sharex=True, gridspec_kw={'hspace': 0})\n",
    "\n",
    "\tmarkers = ['^', 's', 'p', 'h', 'd', '2', '+', 'x', '*',  r'$\\rho$', 'o', r'$\\gamma$', r'$\\tilde{\\gamma}$', '.', r'$M$']\n",
    "\tfacecolors = ['none' if i not in [5,6,7,13] else None for i in range(len(markers))] # 'none makes transparent'\n",
    "\tsizes = [90, 70, 90, 90, 80, 120, 100, 70, 120, 90, 70, 90, 170, 70, 120]\n",
    "\tcmap = plt.get_cmap('turbo', 6) # Assign a unique color for each simulation\n",
    "\tcolors = [cmap(i) for i in range(6)]; colors[0] = 'purple'; colors[-1] = 'red'\n",
    "\tcolors[2] = [x*0.8 for x in colors[2]]; colors[3] = mcolors.to_rgb('gold'); colors[3] = [x*0.9 for x in colors[3]]\n",
    "\tcolors[4] = [min(1, x*1.2) for x in colors[4]]\n",
    "\n",
    "\tpoint = {'cutoff_frequency':3, # all slices go through here\n",
    "\t\t'dt':0.01, 'noise_type':'normal', 'noise_scale':1, 'outliers':False}\n",
    "\t\n",
    "\tall_res = defaultdict(list)\n",
    "\tfor random_seed in random_seeds:\n",
    "\t\tfor v in vals:\n",
    "\t\t\ttry:\n",
    "\t\t\t\tpoint[indie] = v # replace value\n",
    "\t\t\t\tres = pandas.read_csv(\n",
    "\t\t\t\t\tf\"~/Desktop/results2/{point['cutoff_frequency']}_{point['dt']}_{point['noise_type']}_{\n",
    "\t\t\t\t\t\tpoint['noise_scale']}_{point['outliers']}_{random_seed}.csv\",\n",
    "\t\t\t\t\tindex_col=0)\n",
    "\t\n",
    "\t\t\t\tfor sim,sname in sims:\n",
    "\t\t\t\t\tfor method,mname in methods:\n",
    "\t\t\t\t\t\t# extract the numbers\n",
    "\t\t\t\t\t\trmse, ec = map(float, re.search(r\"RMSE:\\s*([\\d.e+-]+)<br/>R\\^2:\\s*([\\d.e+-]+)\", res.loc[mname, sname]).groups())\n",
    "\t\t\t\t\t\tall_res[(v, mname, sname)].append((rmse, ec))\n",
    "\n",
    "\t\t\texcept FileNotFoundError:\n",
    "\t\t\t\tprint(f\"{point['cutoff_frequency']}_{point['dt']}_{point['noise_type']}_{\n",
    "\t\t\t\t\t\tpoint['noise_scale']}_{point['outliers']}_{random_seed}.csv not yet computed\")\n",
    "\n",
    "\tfor a,v in enumerate(vals):\n",
    "\t\tfor j,(sim,sname) in enumerate(sims):\n",
    "\t\t\tfor i,(method,mname) in enumerate(methods):\t\t\t\t\n",
    "\t\t\t\tfor k,perfs in enumerate(zip(*all_res[(v, mname, sname)])):\n",
    "\t\t\t\t\tmean_perf = np.mean(perfs) # sample mean\n",
    "\t\t\t\t\tstd_perf = np.std(perfs, ddof=1) # sample standard deviation\n",
    "\t\t\t\t\t#ci_perf = t_crit = t_dist.ppf(1 - 0.05/2, len(perfs)-1) * std_perf / np.sqrt(len(perfs)) # 95% confidence interval\n",
    "\t\t\t\t\tx = a*(len(sims)+0.2) + j + 0.05 + 0.9*i/len(methods)\n",
    "\t\t\t\t\tax[k].scatter(x, mean_perf, color=colors[j], marker=markers[i], s=sizes[i],\n",
    "\t\t\t\t\t\t\t\tfacecolor=facecolors[i], linewidth=1.5, label=mname if a==0 and a==0 and j==0 and k==0 else None) # label only once per method\n",
    "\t\t\t\t\tax[k].vlines(x, mean_perf - std_perf, mean_perf - error_bars_gaps[k], color=colors[j], linewidth=1.5)\n",
    "\t\t\t\t\tax[k].vlines(x, mean_perf + error_bars_gaps[k], mean_perf + std_perf, color=colors[j], linewidth=1.5)\n",
    "\t\t\t\t\t#ax[k].scatter((x, x), (mean_perf - ci_perf, mean_perf + ci_perf), color=colors[j], marker='_', s=20, linewidth=1.5)\n",
    "\n",
    "\tfor k in range(2):\n",
    "\t\tfor b in range(len(vals)-1):\n",
    "\t\t\tax[k].axvline((len(sims)+0.2)*(b+1)-0.1, color=\"gray\", linestyle=\"--\", alpha=0.5)\n",
    "\t\tax[k].tick_params(axis=\"x\", length=0, labelsize=25) # length=0 hides tick lines\n",
    "\t\tax[k].set_xlim(-0.1, len(vals)*(len(sims) + 0.2) - 0.1)\n",
    "\t\tax[k].tick_params(axis='y', labelsize=18)\n",
    "\t\tax[k].set_ylabel([r'RMSE($\\mathbf{\\hat{\\dot{x}}}$, $\\mathbf{\\dot{x}}$)', 'Corr($\\mathbf{\\hat{\\dot{x}}} - \\mathbf{\\dot{x}}$, $\\mathbf{\\dot{x}}$)'][k], fontsize=25)\n",
    "\tax[0].set_xticklabels([])\n",
    "\tfor label in ax[1].get_yticklabels(): label.set_fontstyle('italic')\n",
    "\tax[0].set_ylim(0, 3)\n",
    "\tax[1].set_ylim(0, 0.3)\n",
    "\tax[1].set_xticks([(len(sims)+0.2)*(b+1)-(len(sims)+0.2)/2 - 0.1/2 for b in range(len(vals))]) \n",
    "\t\n",
    "\tlegend1 = ax[0].legend(ncol=2, columnspacing=0.5, handletextpad=0, loc='upper left', fontsize=15)\n",
    "\tax[0].add_artist(legend1)\n",
    "\tfor handle in legend1.legend_handles:\n",
    "\t    handle.set_edgecolor('dimgray')\n",
    "\t    if len(handle.get_facecolor()) == 1: handle.set_facecolor('dimgray') # for those that are filled\n",
    "\tsim_patches = [mpatches.Patch(color=colors[j], label=sname) for j,(sim,sname) in enumerate(sims)]\n",
    "\tlegend2 = ax[0].legend(handles=sim_patches, loc='upper left', fontsize=15, bbox_to_anchor=(0.184, 1.0))\n",
    "\n",
    "\treturn fig, ax\n"
   ]
  },
  {
   "cell_type": "code",
   "execution_count": null,
   "id": "49c24275-ee4f-41ae-b71f-0496501b55cd",
   "metadata": {},
   "outputs": [],
   "source": [
    "fig, ax = plot_perf('noise_type', [x[0] for x in noise_types], (0.05, 0.005))\n",
    "ax[0].set_ylim(0, 2.2)\n",
    "ax[1].set_ylim(0, 0.25)\n",
    "ax[1].set_yticks(ax[1].get_yticks()[:-1])\n",
    "ax[1].set_xticklabels([rf\"{x[0]}\" for x in noise_types])\n",
    "fig.suptitle(r\"Noise Type's Effect on RMSE and Error Correlaion\", fontsize=32, y=0.92)\n",
    "fig.savefig(os.path.expanduser(\"~/Desktop/vary_noise_type.png\"), bbox_inches='tight')"
   ]
  },
  {
   "cell_type": "code",
   "execution_count": null,
   "id": "bc384ef0-f123-443a-9c9b-5fde420e9b6e",
   "metadata": {},
   "outputs": [],
   "source": [
    "fig, ax = plot_perf('outliers', [False, True], (0.09, 0.005))\n",
    "ax[0].set_ylim(0, 4)\n",
    "ax[1].set_ylim(0, 0.25)\n",
    "ax[1].set_yticks(ax[1].get_yticks()[:-1])\n",
    "ax[1].set_xticklabels([\"no outliers\", \"with 1% of data being outliers\"])\n",
    "fig.suptitle(r\"Outliers' Effect on RMSE and Error Correlation\", fontsize=32, y=0.92)\n",
    "fig.savefig(os.path.expanduser(\"~/Desktop/vary_outliers.png\"), bbox_inches='tight')"
   ]
  },
  {
   "cell_type": "code",
   "execution_count": null,
   "id": "91b4b255",
   "metadata": {},
   "outputs": [],
   "source": [
    "fig, ax = plot_perf('noise_scale', noise_scales, (0.07, 0.005))\n",
    "ax[0].set_ylim(0, 3)\n",
    "ax[1].set_ylim(0, 0.25)\n",
    "ax[1].set_yticks(ax[1].get_yticks()[:-1])\n",
    "ax[1].set_xticklabels([rf\"scale={x}\" for x in noise_scales])\n",
    "fig.suptitle(r\"Noise Scale's Effect on RMSE and Error Correlation\", fontsize=32, y=0.92)\n",
    "fig.savefig(os.path.expanduser(\"~/Desktop/vary_noise_scale.png\"), bbox_inches='tight')"
   ]
  },
  {
   "cell_type": "code",
   "execution_count": null,
   "id": "8010820c-0fb6-40b3-a3d0-1c5114a015db",
   "metadata": {},
   "outputs": [],
   "source": [
    "fig, ax = plot_perf('dt', dts, (0.07, 0.005))\n",
    "ax[1].set_xticklabels([rf\"$\\Delta t$={dt}\" for dt in dts])\n",
    "ax[1].set_ylim(0, 0.25)\n",
    "ax[1].set_yticks(ax[1].get_yticks()[:-1])\n",
    "fig.suptitle(r\"$\\Delta t$'s Effect on RMSE and Error Correlation\", fontsize=32, y=0.92)\n",
    "fig.savefig(os.path.expanduser(\"~/Desktop/vary_dt.png\"), bbox_inches='tight')"
   ]
  },
  {
   "cell_type": "code",
   "execution_count": null,
   "id": "fb8f609e",
   "metadata": {},
   "outputs": [],
   "source": [
    "fig, ax = plot_perf('cutoff_frequency', cutoff_frequencies, (0.05, 0.005))\n",
    "ax[0].set_ylim(0, 2.4)\n",
    "ax[1].set_ylim(0, 0.65)\n",
    "ax[1].set_xticklabels([rf\"{f} Hz, $\\gamma\\!\\approx\\!${np.exp(-1.6*np.log(f) - 0.71*np.log(0.01) - 5.1):.2g}\" for f in cutoff_frequencies])\n",
    "fig.suptitle(r\"Cutoff Frequency's Effect on RMSE and Error Correlation\", fontsize=32, y=0.92)\n",
    "fig.savefig(os.path.expanduser(\"~/Desktop/vary_f.png\"), bbox_inches='tight')"
   ]
  }
 ],
 "metadata": {
  "kernelspec": {
   "display_name": "Python 3 (ipykernel)",
   "language": "python",
   "name": "python3"
  },
  "language_info": {
   "codemirror_mode": {
    "name": "ipython",
    "version": 3
   },
   "file_extension": ".py",
   "mimetype": "text/x-python",
   "name": "python",
   "nbconvert_exporter": "python",
   "pygments_lexer": "ipython3",
   "version": "3.13.3"
  }
 },
 "nbformat": 4,
 "nbformat_minor": 5
}
